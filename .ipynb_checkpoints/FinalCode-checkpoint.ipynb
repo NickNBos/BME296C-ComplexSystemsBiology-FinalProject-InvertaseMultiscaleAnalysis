{
 "cells": [
  {
   "cell_type": "markdown",
   "id": "7e92a83b",
   "metadata": {},
   "source": [
    "# Things and stuff and Such\n",
    "\n",
    "We subtitling in this business\n",
    "\n",
    "Super"
   ]
  },
  {
   "cell_type": "code",
   "execution_count": 3,
   "id": "3cca6633",
   "metadata": {},
   "outputs": [
    {
     "name": "stdout",
     "output_type": "stream",
     "text": [
      "Ayo that's the code box!\n"
     ]
    }
   ],
   "source": [
    "print(\"Ayo that's the code box!\")"
   ]
  },
  {
   "cell_type": "code",
   "execution_count": 2,
   "id": "561d45bc",
   "metadata": {},
   "outputs": [],
   "source": [
    "# Import cell\n",
    "# part 1\n",
    "from Bio.PDB import *\n",
    "import nglview as nv\n",
    "import ipywidgets\n",
    "# part 2\n",
    "from Bio import SeqIO\n",
    "from Bio.Blast import NCBIWWW\n",
    "from Bio.Blast import NCBIXML"
   ]
  },
  {
   "cell_type": "markdown",
   "id": "1b62d29b",
   "metadata": {},
   "source": [
    "# Molecule Scale"
   ]
  },
  {
   "cell_type": "markdown",
   "id": "1e8356e7",
   "metadata": {},
   "source": [
    "## AlphaFold Model"
   ]
  },
  {
   "cell_type": "code",
   "execution_count": 4,
   "id": "37f85ffe",
   "metadata": {},
   "outputs": [
    {
     "data": {
      "application/vnd.jupyter.widget-view+json": {
       "model_id": "8a3eaf1b4172476fb0ac892f65f78fde",
       "version_major": 2,
       "version_minor": 0
      },
      "text/plain": [
       "NGLWidget()"
      ]
     },
     "metadata": {},
     "output_type": "display_data"
    }
   ],
   "source": [
    "pdb_parser = PDBParser()\n",
    "structure = pdb_parser.get_structure(\"P\", \"SUC2_Invertase.pdb\")\n",
    "view = nv.show_biopython(structure)\n",
    "view"
   ]
  },
  {
   "cell_type": "markdown",
   "id": "48ffba6d",
   "metadata": {},
   "source": [
    "# Reaction Scale"
   ]
  },
  {
   "cell_type": "markdown",
   "id": "115b2446",
   "metadata": {},
   "source": [
    "## Michaelis-Mentin"
   ]
  },
  {
   "cell_type": "code",
   "execution_count": null,
   "id": "dd8badb3",
   "metadata": {},
   "outputs": [],
   "source": []
  },
  {
   "cell_type": "markdown",
   "id": "c4fce300",
   "metadata": {},
   "source": [
    "# Ecology Scale"
   ]
  },
  {
   "cell_type": "markdown",
   "id": "b9b8d2d8",
   "metadata": {},
   "source": [
    "## Game Theory"
   ]
  },
  {
   "cell_type": "code",
   "execution_count": null,
   "id": "a3be687f",
   "metadata": {},
   "outputs": [],
   "source": []
  },
  {
   "cell_type": "code",
   "execution_count": null,
   "id": "1788cfc8",
   "metadata": {},
   "outputs": [],
   "source": []
  }
 ],
 "metadata": {
  "kernelspec": {
   "display_name": "Python 3 (ipykernel)",
   "language": "python",
   "name": "python3"
  },
  "language_info": {
   "codemirror_mode": {
    "name": "ipython",
    "version": 3
   },
   "file_extension": ".py",
   "mimetype": "text/x-python",
   "name": "python",
   "nbconvert_exporter": "python",
   "pygments_lexer": "ipython3",
   "version": "3.11.0"
  }
 },
 "nbformat": 4,
 "nbformat_minor": 5
}
