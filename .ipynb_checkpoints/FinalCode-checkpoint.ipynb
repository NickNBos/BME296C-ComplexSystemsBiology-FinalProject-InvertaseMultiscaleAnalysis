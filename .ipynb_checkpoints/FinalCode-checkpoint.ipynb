{
 "cells": [
  {
   "cell_type": "markdown",
   "id": "7e92a83b",
   "metadata": {},
   "source": [
    "# Things and stuff and Such\n",
    "\n",
    "We subtitling in this business\n",
    "\n",
    "Super"
   ]
  },
  {
   "cell_type": "code",
   "execution_count": 4,
   "id": "561d45bc",
   "metadata": {},
   "outputs": [
    {
     "ename": "ModuleNotFoundError",
     "evalue": "No module named 'cometspy'",
     "output_type": "error",
     "traceback": [
      "\u001b[1;31m---------------------------------------------------------------------------\u001b[0m",
      "\u001b[1;31mModuleNotFoundError\u001b[0m                       Traceback (most recent call last)",
      "Cell \u001b[1;32mIn[4], line 8\u001b[0m\n\u001b[0;32m      5\u001b[0m \u001b[38;5;28;01mimport\u001b[39;00m \u001b[38;5;21;01mipywidgets\u001b[39;00m\n\u001b[0;32m      7\u001b[0m \u001b[38;5;66;03m# Imports\u001b[39;00m\n\u001b[1;32m----> 8\u001b[0m \u001b[38;5;28;01mimport\u001b[39;00m \u001b[38;5;21;01mcometspy\u001b[39;00m \u001b[38;5;28;01mas\u001b[39;00m \u001b[38;5;21;01mcp\u001b[39;00m\n\u001b[0;32m      9\u001b[0m \u001b[38;5;28;01mimport\u001b[39;00m \u001b[38;5;21;01mcobra\u001b[39;00m \u001b[38;5;28;01mas\u001b[39;00m \u001b[38;5;21;01mcb\u001b[39;00m\n\u001b[0;32m     10\u001b[0m \u001b[38;5;28;01mimport\u001b[39;00m \u001b[38;5;21;01mnumpy\u001b[39;00m \u001b[38;5;28;01mas\u001b[39;00m \u001b[38;5;21;01mnp\u001b[39;00m\n",
      "\u001b[1;31mModuleNotFoundError\u001b[0m: No module named 'cometspy'"
     ]
    }
   ],
   "source": [
    "# Imports for AF\n",
    "from Bio.PDB import *\n",
    "import nglview as nv\n",
    "import ipywidgets\n",
    "\n"
   ]
  },
  {
   "cell_type": "markdown",
   "id": "d4a1fa91",
   "metadata": {},
   "source": [
    "# Molecule Scale"
   ]
  },
  {
   "cell_type": "markdown",
   "id": "1e8356e7",
   "metadata": {},
   "source": [
    "## AlphaFold Model"
   ]
  },
  {
   "cell_type": "code",
   "execution_count": 3,
   "id": "37f85ffe",
   "metadata": {},
   "outputs": [
    {
     "data": {
      "application/vnd.jupyter.widget-view+json": {
       "model_id": "c685f77f3b45480fabb9f87061d365ff",
       "version_major": 2,
       "version_minor": 0
      },
      "text/plain": [
       "NGLWidget()"
      ]
     },
     "metadata": {},
     "output_type": "display_data"
    }
   ],
   "source": [
    "pdb_parser = PDBParser()\n",
    "structure = pdb_parser.get_structure(\"P\", \"SUC2_Invertase.pdb\")\n",
    "view = nv.show_biopython(structure)\n",
    "view"
   ]
  },
  {
   "cell_type": "markdown",
   "id": "282fa224",
   "metadata": {},
   "source": [
    "# Reaction Scale"
   ]
  },
  {
   "cell_type": "markdown",
   "id": "a8d89ef2",
   "metadata": {},
   "source": [
    "## Michaelis-Mentin\n",
    "Perhaps Compare Mutants"
   ]
  },
  {
   "cell_type": "code",
   "execution_count": null,
   "id": "51d4e496",
   "metadata": {},
   "outputs": [],
   "source": []
  },
  {
   "cell_type": "markdown",
   "id": "a36d52c7",
   "metadata": {},
   "source": [
    "# Ecology Scale"
   ]
  },
  {
   "cell_type": "markdown",
   "id": "39c47e9c",
   "metadata": {},
   "source": [
    "## Game Theory / Metabolic Modeling (COMETS)\n",
    "http://bigg.ucsd.edu/models/iMM904"
   ]
  },
  {
   "cell_type": "code",
   "execution_count": 2,
   "id": "d179bad3",
   "metadata": {},
   "outputs": [],
   "source": [
    "# Imports for COMETS\n",
    "import cometspy as cp\n",
    "import cobra as cb\n",
    "import numpy as np\n",
    "import matplotlib.pyplot as plt\n",
    "import matplotlib.cm as cmap\n",
    "import matplotlib.colors as clrs\n",
    "import os"
   ]
  },
  {
   "cell_type": "code",
   "execution_count": null,
   "id": "f6c520d8",
   "metadata": {},
   "outputs": [],
   "source": [
    "# Load model\n",
    "model = cb.io.read_sbml_model('iMM904.xml')"
   ]
  },
  {
   "cell_type": "code",
   "execution_count": null,
   "id": "a138c38a",
   "metadata": {},
   "outputs": [],
   "source": [
    "# turn off all exchange reactions\n",
    "for ex in model.exchanges:\n",
    "    ex.lower_bound = 0.\n",
    "    ex.upper_bound = 1000."
   ]
  },
  {
   "cell_type": "code",
   "execution_count": 3,
   "id": "af83f309",
   "metadata": {},
   "outputs": [],
   "source": [
    "# Define Media\n",
    "# Define Base Media\n",
    "# Structure ['exchange ID',concentration(mmols)]\n",
    "# minimal media (look up BiGG Metabolites to find more info on IDs) (No Carbon Source)\n",
    "min_med = [['EX_h2o_e',1000.],#aerobic base\n",
    "           ['EX_h_e',1000.],\n",
    "           ['EX_co2_e',1000.],\n",
    "           ['EX_fe3_e',1000.],#metals\n",
    "           ['EX_mn2_e',1000.],\n",
    "           ['EX_fe2_e',1000.],\n",
    "           ['EX_zn2_e',1000.],\n",
    "           ['EX_mg2_e',1000.],\n",
    "           ['EX_ca2_e',1000.],\n",
    "           ['EX_ni2_e',1000.],\n",
    "           ['EX_cu2_e',1000.],\n",
    "           ['EX_sel_e',1000.],\n",
    "           ['EX_cobalt2_e',1000.],\n",
    "           ['EX_mobd_e',1000.],\n",
    "           ['EX_k_e',1000.],\n",
    "           ['EX_na1_e',1000.],\n",
    "           ['EX_cl_e',1000.],\n",
    "           ['EX_tungs_e',1000.],\n",
    "           ['EX_slnt_e',1000.],\n",
    "           ['EX_pi_e',1000.],#phosphorus source\n",
    "           ['EX_so4_e',1000.],#sulfer source\n",
    "           ['EX_nh4_e',1000.]]#nitrogen source\n",
    "# Define Additional Media Components\n",
    "glucose = [['EX_glc__D_e',10]]# carbon source\n",
    "sucrose = [['EX_sucr_e'],1000.] # Secondary Carbon Source\n",
    "oxygen = [['EX_o2_e',1000.]] # Plentiful 02\n",
    "\n",
    "vol = 0.1"
   ]
  }
 ],
 "metadata": {
  "kernelspec": {
   "display_name": "Python 3 (ipykernel)",
   "language": "python",
   "name": "python3"
  },
  "language_info": {
   "codemirror_mode": {
    "name": "ipython",
    "version": 3
   },
   "file_extension": ".py",
   "mimetype": "text/x-python",
   "name": "python",
   "nbconvert_exporter": "python",
   "pygments_lexer": "ipython3",
   "version": "3.10.10"
  }
 },
 "nbformat": 4,
 "nbformat_minor": 5
}
