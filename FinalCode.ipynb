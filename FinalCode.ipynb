{
 "cells": [
  {
   "cell_type": "markdown",
   "id": "7e92a83b",
   "metadata": {},
   "source": [
    "# Things and stuff and Such\n",
    "\n",
    "We subtitling in this business\n",
    "\n",
    "Super"
   ]
  },
  {
   "cell_type": "code",
   "execution_count": 1,
   "id": "3cca6633",
   "metadata": {},
   "outputs": [
    {
     "name": "stdout",
     "output_type": "stream",
     "text": [
      "Ayo that's the code box!\n"
     ]
    }
   ],
   "source": [
    "print(\"Ayo that's the code box!\")"
   ]
  }
 ],
 "metadata": {
  "kernelspec": {
   "display_name": "Python 3",
   "language": "python",
   "name": "python3"
  },
  "language_info": {
   "codemirror_mode": {
    "name": "ipython",
    "version": 3
   },
   "file_extension": ".py",
   "mimetype": "text/x-python",
   "name": "python",
   "nbconvert_exporter": "python",
   "pygments_lexer": "ipython3",
   "version": "3.8.8"
  }
 },
 "nbformat": 4,
 "nbformat_minor": 5
}
